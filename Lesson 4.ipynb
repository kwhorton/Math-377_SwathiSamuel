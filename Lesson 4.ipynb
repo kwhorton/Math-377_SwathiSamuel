{
 "cells": [
  {
   "cell_type": "markdown",
   "metadata": {},
   "source": [
    "# Lesson 4 Practical Application\n",
    "\n",
    "## Swathi Samuel\n",
    "\n",
    "### Documentation: None"
   ]
  },
  {
   "cell_type": "markdown",
   "metadata": {},
   "source": [
    "1. Create/define 3 variables for name age and hometown. Using the print command state your name age and hometown in three different sentences."
   ]
  },
  {
   "cell_type": "code",
   "execution_count": 39,
   "metadata": {},
   "outputs": [
    {
     "name": "stdout",
     "output_type": "stream",
     "text": [
      "I am Swathi Samuel. I am 20 years old. I'm from Newbury Park, CA.\n"
     ]
    }
   ],
   "source": [
    "name= \"Swathi Samuel\"\n",
    "age=20\n",
    "hometown= \"Newbury Park, CA\"\n",
    "sentence= \"I am \"+ name + \". I am \" + str(age) + \" years old. I'm from \" + hometown + \".\" \n",
    "print(sentence)"
   ]
  },
  {
   "cell_type": "markdown",
   "metadata": {},
   "source": [
    "a. Now, use a string method to make your name lowercase"
   ]
  },
  {
   "cell_type": "code",
   "execution_count": 40,
   "metadata": {},
   "outputs": [
    {
     "name": "stdout",
     "output_type": "stream",
     "text": [
      "swathi samuel\n"
     ]
    }
   ],
   "source": [
    "name= name.lower()\n",
    "print(name)"
   ]
  },
  {
   "cell_type": "markdown",
   "metadata": {},
   "source": [
    "b. Make your name a proper noun again"
   ]
  },
  {
   "cell_type": "code",
   "execution_count": 41,
   "metadata": {},
   "outputs": [
    {
     "name": "stdout",
     "output_type": "stream",
     "text": [
      "Swathi Samuel\n"
     ]
    }
   ],
   "source": [
    "name=name.title()\n",
    "print(name)"
   ]
  },
  {
   "cell_type": "markdown",
   "metadata": {},
   "source": [
    "2. Use the replace method to replace all \"I am\" with \"he is'/\"she is\" and all \"I'm\" with \"he's\"/She's\"."
   ]
  },
  {
   "cell_type": "code",
   "execution_count": 42,
   "metadata": {},
   "outputs": [
    {
     "name": "stdout",
     "output_type": "stream",
     "text": [
      "She is Swathi Samuel. She is 20 years old. She's from Newbury Park, CA.\n"
     ]
    }
   ],
   "source": [
    "sentence=sentence.replace(\"I am\", \"She is\")\n",
    "sentence=sentence.replace(\"I'm\", \"She's\")\n",
    "print(sentence)"
   ]
  },
  {
   "cell_type": "markdown",
   "metadata": {},
   "source": [
    "3. Return a boolean response indicating whether the length of your Original sentence is greater than your age + 40."
   ]
  },
  {
   "cell_type": "code",
   "execution_count": 44,
   "metadata": {},
   "outputs": [
    {
     "name": "stdout",
     "output_type": "stream",
     "text": [
      "True\n"
     ]
    }
   ],
   "source": [
    "sentence=sentence.replace(\"She is\", \"I am\")\n",
    "sentence=sentence.replace(\"She's\", \"I'm\")\n",
    "length=len(sentence)\n",
    "Ans=None\n",
    "if age + 40< length:\n",
    "    Ans= True\n",
    "\n",
    "print(Ans)"
   ]
  },
  {
   "cell_type": "code",
   "execution_count": null,
   "metadata": {},
   "outputs": [],
   "source": []
  }
 ],
 "metadata": {
  "kernelspec": {
   "display_name": "Python 3",
   "language": "python",
   "name": "python3"
  },
  "language_info": {
   "codemirror_mode": {
    "name": "ipython",
    "version": 3
   },
   "file_extension": ".py",
   "mimetype": "text/x-python",
   "name": "python",
   "nbconvert_exporter": "python",
   "pygments_lexer": "ipython3",
   "version": "3.6.5"
  }
 },
 "nbformat": 4,
 "nbformat_minor": 2
}
